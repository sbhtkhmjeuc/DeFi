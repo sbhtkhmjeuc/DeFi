{
 "cells": [
  {
   "cell_type": "code",
   "execution_count": 6,
   "metadata": {},
   "outputs": [
    {
     "data": {
      "text/plain": [
       "Version('0.6.0')"
      ]
     },
     "execution_count": 6,
     "metadata": {},
     "output_type": "execute_result"
    }
   ],
   "source": [
    "from http.client import HTTPException\n",
    "import solcx \n",
    "import json\n",
    "from web3 import Web3\n",
    "import os\n",
    "from dotenv import load_dotenv\n",
    "# solcx.install_solc('0.6.0')"
   ]
  },
  {
   "cell_type": "code",
   "execution_count": 1,
   "metadata": {},
   "outputs": [
    {
     "name": "stdout",
     "output_type": "stream",
     "text": [
      "// SPDX-License-Identifier: MIT\n",
      "\n",
      "pragma solidity ^0.6.0;\n",
      "contract SimpleStorage {\n",
      " \n",
      "    uint256 favoriteNumber; // when you don't initilize a numnber variable it will initialized to 0!\n",
      "    bool favoriteBool; // you NEED to run  \n",
      "    \n",
      "    struct People {\n",
      "        uint256 favoriteNumber;\n",
      "        string name;\n",
      "    }\n",
      "    \n",
      "    People[] public people; // an Array of a People structure that called \"people\"\n",
      "    mapping(string => uint256) public nameToFavoriteNumber; \n",
      "    // a mapping structure that called \"nameToFavoriteNumber\" between a string and a big number\n",
      "    \n",
      "    // function that is stores the input into the favoriteNumber field in a instance of a People structure\n",
      "    function store(uint256 _favoriteNumber) public {\n",
      "        favoriteNumber = _favoriteNumber;\n",
      "    }\n",
      "    \n",
      "    // a function that retrives the favoriteNumber from a instace of a People structure\n",
      "    function retrieve() public view returns(uint256) {\n",
      "        return favoriteNumber;\n",
      "    }\n",
      "    \n",
      "    // a function that adds an instance of Poeple structure into the \"nameToFavoriteNumber\" mapping structure\n",
      "    function addPerson(string memory _name, uint256 _favoriteNumber) public{\n",
      "        people.push(People(_favoriteNumber, _name)); // pushing a instance into the mappinf structure\n",
      "        nameToFavoriteNumber[_name] = _favoriteNumber; // adding a favoriteNumber to a Poeple structure instance\n",
      "    }    \n",
      "    \n",
      "}\n",
      "\n"
     ]
    }
   ],
   "source": [
    "with open(r'/home/sbhtkhmjeuc/Desktop/DeFi/DeFi_Tutorial/SimpleStorage/SimpleStorage.sol', 'r') as file:\n",
    "    data = file.read()\n",
    "# print(data)"
   ]
  },
  {
   "cell_type": "code",
   "execution_count": 7,
   "metadata": {},
   "outputs": [],
   "source": [
    "compiled_sol = solcx.compile_standard(\n",
    "    {\n",
    "        \"language\": \"Solidity\",\n",
    "        \"sources\": {\"SimpleStorage.sol\": {\"content\": data}},\n",
    "        \"settings\": {\n",
    "            \"outputSelection\": {\n",
    "                \"*\": {\n",
    "                    \"*\": [\"abi\", \"metadata\", \"evm.bytecode\", \"evm.bytecode.sourceMap\"]\n",
    "                }\n",
    "            }\n",
    "        },\n",
    "    },\n",
    "    solc_version=\"0.6.0\",\n",
    ")"
   ]
  }
 ],
 "metadata": {
  "kernelspec": {
   "display_name": "Python 3.10.4 64-bit",
   "language": "python",
   "name": "python3"
  },
  "language_info": {
   "codemirror_mode": {
    "name": "ipython",
    "version": 3
   },
   "file_extension": ".py",
   "mimetype": "text/x-python",
   "name": "python",
   "nbconvert_exporter": "python",
   "pygments_lexer": "ipython3",
   "version": "3.10.4"
  },
  "orig_nbformat": 4,
  "vscode": {
   "interpreter": {
    "hash": "916dbcbb3f70747c44a77c7bcd40155683ae19c65e1c03b4aa3499c5328201f1"
   }
  }
 },
 "nbformat": 4,
 "nbformat_minor": 2
}
