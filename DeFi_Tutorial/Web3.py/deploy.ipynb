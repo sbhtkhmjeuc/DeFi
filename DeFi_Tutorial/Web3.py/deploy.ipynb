{
 "cells": [
  {
   "cell_type": "code",
   "execution_count": 4,
   "metadata": {},
   "outputs": [],
   "source": [
    "from http.client import HTTPException\n",
    "import solcx \n",
    "import json\n",
    "from web3 import Web3\n",
    "import os\n",
    "from dotenv import load_dotenv\n",
    "\n",
    "\n"
   ]
  },
  {
   "cell_type": "code",
   "execution_count": 2,
   "metadata": {},
   "outputs": [
    {
     "name": "stdout",
     "output_type": "stream",
     "text": [
      "// SPDX-License-Identifier: MIT\n",
      "\n",
      "pragma solidity ^0.6.0;\n",
      "contract SimpleStorage {\n",
      " \n",
      "    uint256 favoriteNumber; // when you don't initilize a numnber variable it will initialized to 0!\n",
      "    bool favoriteBool; // you NEED to run  \n",
      "    \n",
      "    struct People {\n",
      "        uint256 favoriteNumber;\n",
      "        string name;\n",
      "    }\n",
      "    \n",
      "    People[] public people; // an Array of a People structure that called \"people\"\n",
      "    mapping(string => uint256) public nameToFavoriteNumber; \n",
      "    // a mapping structure that called \"nameToFavoriteNumber\" between a string and a big number\n",
      "    \n",
      "    // function that is stores the input into the favoriteNumber field in a instance of a People structure\n",
      "    function store(uint256 _favoriteNumber) public {\n",
      "        favoriteNumber = _favoriteNumber;\n",
      "    }\n",
      "    \n",
      "    // a function that retrives the favoriteNumber from a instace of a People structure\n",
      "    function retrieve() public view returns(uint256) {\n",
      "        return favoriteNumber;\n",
      "    }\n",
      "    \n",
      "    // a function that adds an instance of Poeple structure into the \"nameToFavoriteNumber\" mapping structure\n",
      "    function addPerson(string memory _name, uint256 _favoriteNumber) public{\n",
      "        people.push(People(_favoriteNumber, _name)); // pushing a instance into the mappinf structure\n",
      "        nameToFavoriteNumber[_name] = _favoriteNumber; // adding a favoriteNumber to a Poeple structure instance\n",
      "    }    \n",
      "    \n",
      "}\n",
      "\n"
     ]
    }
   ],
   "source": [
    "with open(r\"/home/sbhtkhmjeuc/Desktop/DeFi/DeFi/DeFi_Tutorial/SimpleStorage/SimpleStorage.sol\" , \"r\"\n",
    ") as file:\n",
    "    simple_storage_file = file.read()\n",
    "    print(simple_storage_file)\n",
    "\n"
   ]
  },
  {
   "cell_type": "markdown",
   "metadata": {},
   "source": [
    "Compile Out Solidity"
   ]
  },
  {
   "cell_type": "code",
   "execution_count": 5,
   "metadata": {},
   "outputs": [
    {
     "ename": "SolcError",
     "evalue": "SimpleStorage.sol:1:1: ParserError: Expected pragma, import directive or contract/interface/library/struct/enum definition.\nsimple_storage_file\n^-----------------^\n\n> command: `/home/sbhtkhmjeuc/.solcx/solc-v0.6.0 --standard-json`\n> return code: `0`\n> stdout:\n{\"errors\":[{\"component\":\"general\",\"formattedMessage\":\"SimpleStorage.sol:1:1: ParserError: Expected pragma, import directive or contract/interface/library/struct/enum definition.\\nsimple_storage_file\\n^-----------------^\\n\",\"message\":\"Expected pragma, import directive or contract/interface/library/struct/enum definition.\",\"severity\":\"error\",\"sourceLocation\":{\"end\":19,\"file\":\"SimpleStorage.sol\",\"start\":0},\"type\":\"ParserError\"}],\"sources\":{}}\n\n> stderr:",
     "output_type": "error",
     "traceback": [
      "\u001b[0;31m---------------------------------------------------------------------------\u001b[0m",
      "\u001b[0;31mSolcError\u001b[0m                                 Traceback (most recent call last)",
      "\u001b[1;32m/home/sbhtkhmjeuc/Desktop/DeFi/DeFi/DeFi_Tutorial/Web3.py/deploy.ipynb Cell 4\u001b[0m in \u001b[0;36m<cell line: 1>\u001b[0;34m()\u001b[0m\n\u001b[0;32m----> <a href='vscode-notebook-cell:/home/sbhtkhmjeuc/Desktop/DeFi/DeFi/DeFi_Tutorial/Web3.py/deploy.ipynb#W3sZmlsZQ%3D%3D?line=0'>1</a>\u001b[0m compiled_sol \u001b[39m=\u001b[39m solcx\u001b[39m.\u001b[39;49mcompile_standard(\n\u001b[1;32m      <a href='vscode-notebook-cell:/home/sbhtkhmjeuc/Desktop/DeFi/DeFi/DeFi_Tutorial/Web3.py/deploy.ipynb#W3sZmlsZQ%3D%3D?line=1'>2</a>\u001b[0m     {\n\u001b[1;32m      <a href='vscode-notebook-cell:/home/sbhtkhmjeuc/Desktop/DeFi/DeFi/DeFi_Tutorial/Web3.py/deploy.ipynb#W3sZmlsZQ%3D%3D?line=2'>3</a>\u001b[0m         \u001b[39m\"\u001b[39;49m\u001b[39mlanguage\u001b[39;49m\u001b[39m\"\u001b[39;49m : \u001b[39m\"\u001b[39;49m\u001b[39mSolidity\u001b[39;49m\u001b[39m\"\u001b[39;49m,\n\u001b[1;32m      <a href='vscode-notebook-cell:/home/sbhtkhmjeuc/Desktop/DeFi/DeFi/DeFi_Tutorial/Web3.py/deploy.ipynb#W3sZmlsZQ%3D%3D?line=3'>4</a>\u001b[0m         \u001b[39m\"\u001b[39;49m\u001b[39msources\u001b[39;49m\u001b[39m\"\u001b[39;49m : {\u001b[39m\"\u001b[39;49m\u001b[39mSimpleStorage.sol\u001b[39;49m\u001b[39m\"\u001b[39;49m :{\u001b[39m\"\u001b[39;49m\u001b[39mcontent\u001b[39;49m\u001b[39m\"\u001b[39;49m : \u001b[39m\"\u001b[39;49m\u001b[39msimple_storage_file\u001b[39;49m\u001b[39m\"\u001b[39;49m}},\n\u001b[1;32m      <a href='vscode-notebook-cell:/home/sbhtkhmjeuc/Desktop/DeFi/DeFi/DeFi_Tutorial/Web3.py/deploy.ipynb#W3sZmlsZQ%3D%3D?line=4'>5</a>\u001b[0m         \u001b[39m\"\u001b[39;49m\u001b[39msettings\u001b[39;49m\u001b[39m\"\u001b[39;49m: {\n\u001b[1;32m      <a href='vscode-notebook-cell:/home/sbhtkhmjeuc/Desktop/DeFi/DeFi/DeFi_Tutorial/Web3.py/deploy.ipynb#W3sZmlsZQ%3D%3D?line=5'>6</a>\u001b[0m             \u001b[39m\"\u001b[39;49m\u001b[39moutputSelection\u001b[39;49m\u001b[39m\"\u001b[39;49m : {\n\u001b[1;32m      <a href='vscode-notebook-cell:/home/sbhtkhmjeuc/Desktop/DeFi/DeFi/DeFi_Tutorial/Web3.py/deploy.ipynb#W3sZmlsZQ%3D%3D?line=6'>7</a>\u001b[0m                 \u001b[39m\"\u001b[39;49m\u001b[39m*\u001b[39;49m\u001b[39m\"\u001b[39;49m: {\n\u001b[1;32m      <a href='vscode-notebook-cell:/home/sbhtkhmjeuc/Desktop/DeFi/DeFi/DeFi_Tutorial/Web3.py/deploy.ipynb#W3sZmlsZQ%3D%3D?line=7'>8</a>\u001b[0m                     \u001b[39m\"\u001b[39;49m\u001b[39m*\u001b[39;49m\u001b[39m\"\u001b[39;49m : [\u001b[39m\"\u001b[39;49m\u001b[39mabi\u001b[39;49m\u001b[39m\"\u001b[39;49m,\u001b[39m\"\u001b[39;49m\u001b[39mmetadata\u001b[39;49m\u001b[39m\"\u001b[39;49m,\u001b[39m\"\u001b[39;49m\u001b[39mevm.bytecode\u001b[39;49m\u001b[39m\"\u001b[39;49m, \u001b[39m\"\u001b[39;49m\u001b[39mevm.bytecode.sourceMap\u001b[39;49m\u001b[39m\"\u001b[39;49m]\n\u001b[1;32m      <a href='vscode-notebook-cell:/home/sbhtkhmjeuc/Desktop/DeFi/DeFi/DeFi_Tutorial/Web3.py/deploy.ipynb#W3sZmlsZQ%3D%3D?line=8'>9</a>\u001b[0m                 }\n\u001b[1;32m     <a href='vscode-notebook-cell:/home/sbhtkhmjeuc/Desktop/DeFi/DeFi/DeFi_Tutorial/Web3.py/deploy.ipynb#W3sZmlsZQ%3D%3D?line=9'>10</a>\u001b[0m             }\n\u001b[1;32m     <a href='vscode-notebook-cell:/home/sbhtkhmjeuc/Desktop/DeFi/DeFi/DeFi_Tutorial/Web3.py/deploy.ipynb#W3sZmlsZQ%3D%3D?line=10'>11</a>\u001b[0m         },\n\u001b[1;32m     <a href='vscode-notebook-cell:/home/sbhtkhmjeuc/Desktop/DeFi/DeFi/DeFi_Tutorial/Web3.py/deploy.ipynb#W3sZmlsZQ%3D%3D?line=11'>12</a>\u001b[0m     },\n\u001b[1;32m     <a href='vscode-notebook-cell:/home/sbhtkhmjeuc/Desktop/DeFi/DeFi/DeFi_Tutorial/Web3.py/deploy.ipynb#W3sZmlsZQ%3D%3D?line=12'>13</a>\u001b[0m     solc_version\u001b[39m=\u001b[39;49m\u001b[39m\"\u001b[39;49m\u001b[39m0.6.0\u001b[39;49m\u001b[39m\"\u001b[39;49m,\n\u001b[1;32m     <a href='vscode-notebook-cell:/home/sbhtkhmjeuc/Desktop/DeFi/DeFi/DeFi_Tutorial/Web3.py/deploy.ipynb#W3sZmlsZQ%3D%3D?line=13'>14</a>\u001b[0m )\n",
      "File \u001b[0;32m~/.local/lib/python3.10/site-packages/solcx/main.py:394\u001b[0m, in \u001b[0;36mcompile_standard\u001b[0;34m(input_data, base_path, allow_paths, output_dir, overwrite, solc_binary, solc_version, allow_empty)\u001b[0m\n\u001b[1;32m    386\u001b[0m     \u001b[39mif\u001b[39;00m has_errors:\n\u001b[1;32m    387\u001b[0m         error_message \u001b[39m=\u001b[39m \u001b[39m\"\u001b[39m\u001b[39m\\n\u001b[39;00m\u001b[39m\"\u001b[39m\u001b[39m.\u001b[39mjoin(\n\u001b[1;32m    388\u001b[0m             \u001b[39mtuple\u001b[39m(\n\u001b[1;32m    389\u001b[0m                 error[\u001b[39m\"\u001b[39m\u001b[39mformattedMessage\u001b[39m\u001b[39m\"\u001b[39m]\n\u001b[0;32m   (...)\u001b[0m\n\u001b[1;32m    392\u001b[0m             )\n\u001b[1;32m    393\u001b[0m         )\n\u001b[0;32m--> 394\u001b[0m         \u001b[39mraise\u001b[39;00m SolcError(\n\u001b[1;32m    395\u001b[0m             error_message,\n\u001b[1;32m    396\u001b[0m             command\u001b[39m=\u001b[39mcommand,\n\u001b[1;32m    397\u001b[0m             return_code\u001b[39m=\u001b[39mproc\u001b[39m.\u001b[39mreturncode,\n\u001b[1;32m    398\u001b[0m             stdin_data\u001b[39m=\u001b[39mjson\u001b[39m.\u001b[39mdumps(input_data),\n\u001b[1;32m    399\u001b[0m             stdout_data\u001b[39m=\u001b[39mstdoutdata,\n\u001b[1;32m    400\u001b[0m             stderr_data\u001b[39m=\u001b[39mstderrdata,\n\u001b[1;32m    401\u001b[0m             error_dict\u001b[39m=\u001b[39mcompiler_output[\u001b[39m\"\u001b[39m\u001b[39merrors\u001b[39m\u001b[39m\"\u001b[39m],\n\u001b[1;32m    402\u001b[0m         )\n\u001b[1;32m    403\u001b[0m \u001b[39mreturn\u001b[39;00m compiler_output\n",
      "\u001b[0;31mSolcError\u001b[0m: SimpleStorage.sol:1:1: ParserError: Expected pragma, import directive or contract/interface/library/struct/enum definition.\nsimple_storage_file\n^-----------------^\n\n> command: `/home/sbhtkhmjeuc/.solcx/solc-v0.6.0 --standard-json`\n> return code: `0`\n> stdout:\n{\"errors\":[{\"component\":\"general\",\"formattedMessage\":\"SimpleStorage.sol:1:1: ParserError: Expected pragma, import directive or contract/interface/library/struct/enum definition.\\nsimple_storage_file\\n^-----------------^\\n\",\"message\":\"Expected pragma, import directive or contract/interface/library/struct/enum definition.\",\"severity\":\"error\",\"sourceLocation\":{\"end\":19,\"file\":\"SimpleStorage.sol\",\"start\":0},\"type\":\"ParserError\"}],\"sources\":{}}\n\n> stderr:"
     ]
    }
   ],
   "source": [
    "compiled_sol = solcx.compile_standard(\n",
    "    {\n",
    "        \"language\" : \"Solidity\",\n",
    "        \"sources\" : {\"SimpleStorage.sol\" :{\"content\" : \"simple_storage_file\"}},\n",
    "        \"settings\": {\n",
    "            \"outputSelection\" : {\n",
    "                \"*\": {\n",
    "                    \"*\" : [\"abi\",\"metadata\",\"evm.bytecode\", \"evm.bytecode.sourceMap\"]\n",
    "                }\n",
    "            }\n",
    "        },\n",
    "    },\n",
    "    solc_version=\"0.6.0\",\n",
    ")\n",
    "\n",
    "# with open(\n",
    "#     r\"/home/sbhtkhmjeuc/Desktop/DeFi/DeFi/DeFi_Tutorial/Web3.py/compiled_sol.json\", \"w\"\n",
    "# ) as file:\n",
    "#     json.dump(compiled_sol, file)"
   ]
  }
 ],
 "metadata": {
  "kernelspec": {
   "display_name": "Python 3.10.5 64-bit",
   "language": "python",
   "name": "python3"
  },
  "language_info": {
   "codemirror_mode": {
    "name": "ipython",
    "version": 3
   },
   "file_extension": ".py",
   "mimetype": "text/x-python",
   "name": "python",
   "nbconvert_exporter": "python",
   "pygments_lexer": "ipython3",
   "version": "3.10.5"
  },
  "orig_nbformat": 4,
  "vscode": {
   "interpreter": {
    "hash": "e7370f93d1d0cde622a1f8e1c04877d8463912d04d973331ad4851f04de6915a"
   }
  }
 },
 "nbformat": 4,
 "nbformat_minor": 2
}
